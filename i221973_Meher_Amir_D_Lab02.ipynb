{
  "nbformat": 4,
  "nbformat_minor": 0,
  "metadata": {
    "colab": {
      "provenance": []
    },
    "kernelspec": {
      "name": "python3",
      "display_name": "Python 3"
    },
    "language_info": {
      "name": "python"
    }
  },
  "cells": [
    {
      "cell_type": "markdown",
      "source": [
        "**Task 1**"
      ],
      "metadata": {
        "id": "N2XB4b86deUV"
      }
    },
    {
      "cell_type": "code",
      "source": [
        "import pandas as pd\n",
        "\n",
        "df = pd.read_csv(\"/content/vgsalesGlobale.csv\")\n",
        "\n",
        "totalsales = df[\"Global_Sales\"].sum()\n",
        "print(f\"Total Global Sales: {totalsales:} million\")\n",
        "\n",
        "topgamesales = df[\"Global_Sales\"].max()\n",
        "topgame = df[df[\"Global_Sales\"] == topgamesales].iloc[0]\n",
        "print(f\"Top Selling Game: {topgame['Name']} ({topgame['Global_Sales']} million)\")\n",
        "\n",
        "avgsales = df[[\"NA_Sales\", \"EU_Sales\", \"JP_Sales\", \"Other_Sales\"]].mean()\n",
        "print(\"Average Sales per Region:\\n\", avgsales)\n",
        "\n",
        "topgenres = df.groupby(\"Genre\")[\"Global_Sales\"].sum().nlargest(5)\n",
        "print(\"Top 5 Genres by Global Sales:\\n\", topgenres)\n",
        "\n",
        "genresales = df.groupby(\"Genre\")[[\"NA_Sales\", \"EU_Sales\", \"JP_Sales\", \"Other_Sales\"]].sum()\n",
        "print(\"Most Popular Genre in NA:\", topNAgenre)\n",
        "\n",
        "topNAgenresales = genresales[\"NA_Sales\"].max()\n",
        "print(\"Top 3 Platforms by Global Sales:\\n\", topplatforms)\n",
        "\n",
        "lastrows = df.tail(10)\n",
        "print(\"Last 10 Rows:\\n\", lastrows)\n",
        "topNAgenre = genresales[genresales[\"NA_Sales\"] == topNAgenresales].index[0]\n",
        "topplatforms = df.groupby(\"Platform\")[\"Global_Sales\"].sum().nlargest(3)\n",
        "marketshare = (df.groupby(\"Genre\")[\"Global_Sales\"].sum() / totalsales) * 100\n",
        "print(\"Market Share per Genre (%):\\n\", marketshare)\n",
        "\n",
        "correlation = df[\"NA_Sales\"].corr(df[\"EU_Sales\"])\n",
        "print(f\"Correlation between NA and EU Sales: {correlation:}\")"
      ],
      "metadata": {
        "colab": {
          "base_uri": "https://localhost:8080/"
        },
        "id": "zM2J3dxpq4No",
        "outputId": "b0b2dbc1-0aa2-46e5-c4bb-aa989b65c924"
      },
      "execution_count": 30,
      "outputs": [
        {
          "output_type": "stream",
          "name": "stdout",
          "text": [
            "Total Global Sales: 8920.44 million\n",
            "Top Selling Game: Wii Sports (82.74 million)\n",
            "Average Sales per Region:\n",
            " NA_Sales       0.264667\n",
            "EU_Sales       0.146652\n",
            "JP_Sales       0.077782\n",
            "Other_Sales    0.048063\n",
            "dtype: float64\n",
            "Top 5 Genres by Global Sales:\n",
            " Genre\n",
            "Action          1751.18\n",
            "Sports          1330.93\n",
            "Shooter         1037.37\n",
            "Role-Playing     927.37\n",
            "Platform         831.37\n",
            "Name: Global_Sales, dtype: float64\n",
            "Most Popular Genre in NA: Action\n",
            "Top 3 Platforms by Global Sales:\n",
            " Platform\n",
            "PS2     1255.64\n",
            "X360     979.96\n",
            "PS3      957.84\n",
            "Name: Global_Sales, dtype: float64\n",
            "Last 10 Rows:\n",
            "         Rank                                               Name Platform  \\\n",
            "16588  16591                                   Mega Brain Boost       DS   \n",
            "16589  16592  Chou Ezaru wa Akai Hana: Koi wa Tsuki ni Shiru...      PSV   \n",
            "16590  16593  Eiyuu Densetsu: Sora no Kiseki Material Collec...      PSP   \n",
            "16591  16594                                Myst IV: Revelation       PC   \n",
            "16592  16595                                           Plushees       DS   \n",
            "16593  16596                 Woody Woodpecker in Crazy Castle 5      GBA   \n",
            "16594  16597                      Men in Black II: Alien Escape       GC   \n",
            "16595  16598   SCORE International Baja 1000: The Official Game      PS2   \n",
            "16596  16599                                         Know How 2       DS   \n",
            "16597  16600                                   Spirits & Spells      GBA   \n",
            "\n",
            "         Year         Genre              Publisher  NA_Sales  EU_Sales  \\\n",
            "16588  2008.0        Puzzle  Majesco Entertainment      0.01      0.00   \n",
            "16589  2016.0        Action        dramatic create      0.00      0.00   \n",
            "16590  2007.0  Role-Playing     Falcom Corporation      0.00      0.00   \n",
            "16591  2004.0     Adventure                Ubisoft      0.01      0.00   \n",
            "16592  2008.0    Simulation              Destineer      0.01      0.00   \n",
            "16593  2002.0      Platform                  Kemco      0.01      0.00   \n",
            "16594  2003.0       Shooter             Infogrames      0.01      0.00   \n",
            "16595  2008.0        Racing             Activision      0.00      0.00   \n",
            "16596  2010.0        Puzzle               7G//AMES      0.00      0.01   \n",
            "16597  2003.0      Platform                Wanadoo      0.01      0.00   \n",
            "\n",
            "       JP_Sales  Other_Sales  Global_Sales  \n",
            "16588      0.00          0.0          0.01  \n",
            "16589      0.01          0.0          0.01  \n",
            "16590      0.01          0.0          0.01  \n",
            "16591      0.00          0.0          0.01  \n",
            "16592      0.00          0.0          0.01  \n",
            "16593      0.00          0.0          0.01  \n",
            "16594      0.00          0.0          0.01  \n",
            "16595      0.00          0.0          0.01  \n",
            "16596      0.00          0.0          0.01  \n",
            "16597      0.00          0.0          0.01  \n",
            "Market Share per Genre (%):\n",
            " Genre\n",
            "Action          19.631094\n",
            "Adventure        2.679688\n",
            "Fighting         5.032375\n",
            "Misc             9.079821\n",
            "Platform         9.319832\n",
            "Puzzle           2.745941\n",
            "Racing           8.206322\n",
            "Role-Playing    10.396012\n",
            "Shooter         11.629135\n",
            "Simulation       4.396644\n",
            "Sports          14.920004\n",
            "Strategy         1.963132\n",
            "Name: Global_Sales, dtype: float64\n",
            "Correlation between NA and EU Sales: 0.7677267483702631\n"
          ]
        }
      ]
    },
    {
      "cell_type": "markdown",
      "source": [
        "**TASK 2**"
      ],
      "metadata": {
        "id": "JXIuVhUVegTg"
      }
    },
    {
      "cell_type": "code",
      "source": [
        "words = {\n",
        "    \"hello\": \"hola\",\n",
        "    \"goodbye\": \"adiós\",\n",
        "    \"thank you\": \"gracias\",\n",
        "    \"water\": \"agua\",\n",
        "    \"book\": \"libro\"\n",
        "}\n",
        "\n",
        "while True:\n",
        "    word = input(\"Enter an English word (or type 'exit' to stop): \")\n",
        "    if word.lower() == 'exit':\n",
        "     break\n",
        "    if word in words:\n",
        "        print(f\"The Spanish translation is: {words[word]}\")\n",
        "    else:\n",
        "        print(\"Translation is not available.\")\n"
      ],
      "metadata": {
        "colab": {
          "base_uri": "https://localhost:8080/"
        },
        "id": "uLIwRAmLei6n",
        "outputId": "f541bf15-eeae-4071-e576-182280698965"
      },
      "execution_count": 14,
      "outputs": [
        {
          "name": "stdout",
          "output_type": "stream",
          "text": [
            "Enter an English word (or type 'exit' to stop): hello\n",
            "The Spanish translation is: hola\n",
            "Enter an English word (or type 'exit' to stop): exit\n"
          ]
        }
      ]
    },
    {
      "cell_type": "markdown",
      "source": [
        "**Task 3**"
      ],
      "metadata": {
        "id": "Cz3VGLT5ftYC"
      }
    },
    {
      "cell_type": "code",
      "source": [
        "def classify_emails(emails):\n",
        "    imp, promo, spam = [], [], []\n",
        "    imp_keywords = [\"meeting\", \"urgent\", \"project\", \"deadline\"]\n",
        "    promo_keywords = [\"sale\", \"discount\", \"offer\", \"deal\"]\n",
        "    spam_keywords = [\"win\", \"prize\", \"lottery\", \"free money\"]\n",
        "\n",
        "    for email in emails:\n",
        "        email = email.lower()\n",
        "        if any(word in email for word in imp_keywords): imp.append(email)\n",
        "        elif any(word in email for word in promo_keywords): promo.append(email)\n",
        "        elif any(word in email for word in spam_keywords): spam.append(email)\n",
        "\n",
        "    return imp, promo, spam\n",
        "\n",
        "emails = [\n",
        "    \"Urgent meeting scheduled for tomorrow.\",\n",
        "    \"Limited time offer! Get 50% off on all items.\",\n",
        "    \"Congratulations! You have won a lottery prize.\",\n",
        "    \"Reminder: Project deadline is next week.\",\n",
        "    \"Don't miss out on our exclusive discount deal!\",\n",
        "    \"Click here to claim your free money now!\"\n",
        "]\n",
        "imp_emails, promo_emails, spam_emails = classify_emails(emails)\n",
        "print(\"Important:\", imp_emails)\n",
        "print(\"Promotions:\", promo_emails)\n",
        "print(\"Spam:\", spam_emails)\n"
      ],
      "metadata": {
        "colab": {
          "base_uri": "https://localhost:8080/"
        },
        "id": "BbV6NbEEvIMn",
        "outputId": "0b7a797a-6ed1-458e-838d-f40a6e32e93f"
      },
      "execution_count": 18,
      "outputs": [
        {
          "output_type": "stream",
          "name": "stdout",
          "text": [
            "Important: ['urgent meeting scheduled for tomorrow.', 'reminder: project deadline is next week.']\n",
            "Promotions: ['limited time offer! get 50% off on all items.', \"don't miss out on our exclusive discount deal!\"]\n",
            "Spam: ['congratulations! you have won a lottery prize.', 'click here to claim your free money now!']\n"
          ]
        }
      ]
    },
    {
      "cell_type": "markdown",
      "source": [
        "**Task 4**"
      ],
      "metadata": {
        "id": "wjpY2vFxglru"
      }
    },
    {
      "cell_type": "code",
      "source": [
        "cart = []\n",
        "prod = {\n",
        "    1: \"AI Response Simulator\",\n",
        "    2: \"Investment Decision\",\n",
        "    3: \"Market Analysis Tool\"\n",
        "}\n",
        "print(\"Welcome to the Store!\")\n",
        "print(\"Available Products:\")\n",
        "for num, p in prod.items():\n",
        "    print(f\"{num}. {p}\")\n",
        "\n",
        "print(\"Enter 'q' to checkout.\")\n",
        "\n",
        "while True:\n",
        "    choice = input(\"Enter product number: \")\n",
        "\n",
        "    if choice.lower() == 'q':\n",
        "        break\n",
        "\n",
        "    if choice.isdigit():\n",
        "        choice = int(choice)\n",
        "        if choice in prod:\n",
        "            cart.append(prod[choice])\n",
        "            print(f\"'{prod[choice]}' added to your cart.\")\n",
        "        else:\n",
        "            print(\"Invalid choice.\")\n",
        "    else:\n",
        "        print(\"Invalid input. Enter a number or 'q'.\")\n",
        "\n",
        "print(\"\\nYour Cart:\")\n",
        "if cart:\n",
        "    for item in cart:\n",
        "        print(f\"- {item}\")\n",
        "else:\n",
        "    print(\"Your cart is empty.\")\n",
        "\n",
        "print(\"Thank you! Goodbye!\")"
      ],
      "metadata": {
        "colab": {
          "base_uri": "https://localhost:8080/"
        },
        "id": "uMkqgk26vuLW",
        "outputId": "14de2d48-cf26-4738-a7d9-01b2849bc069"
      },
      "execution_count": 19,
      "outputs": [
        {
          "output_type": "stream",
          "name": "stdout",
          "text": [
            "Welcome to the Store!\n",
            "Available Products:\n",
            "1. AI Response Simulator\n",
            "2. Investment Decision\n",
            "3. Market Analysis Tool\n",
            "Enter 'q' to checkout.\n",
            "Enter product number: 1\n",
            "'AI Response Simulator' added to your cart.\n",
            "Enter product number: q\n",
            "\n",
            "Your Cart:\n",
            "- AI Response Simulator\n",
            "Thank you! Goodbye!\n"
          ]
        }
      ]
    },
    {
      "cell_type": "markdown",
      "source": [
        "**Task 5(a)**"
      ],
      "metadata": {
        "id": "WxB-Dtucntzu"
      }
    },
    {
      "cell_type": "code",
      "source": [
        "import numpy as np\n",
        "\n",
        "arr1 = np.array([[1, 2, 3], [4, 5, 6]])\n",
        "arr2 = np.array([[7, 8, 9], [10, 11, 12]])\n",
        "\n",
        "result = arr1 + arr2\n",
        "\n",
        "print(\"Array 1:\\n\", arr1)\n",
        "print(\"Array 2:\\n\", arr2)\n",
        "print(\"Element-wise Addition Result:\\n\", result)\n"
      ],
      "metadata": {
        "colab": {
          "base_uri": "https://localhost:8080/"
        },
        "id": "yGQJb4wQnwhd",
        "outputId": "38139a52-c3ed-48ec-f76b-01a324f8f3d9"
      },
      "execution_count": 21,
      "outputs": [
        {
          "output_type": "stream",
          "name": "stdout",
          "text": [
            "Array 1:\n",
            " [[1 2 3]\n",
            " [4 5 6]]\n",
            "Array 2:\n",
            " [[ 7  8  9]\n",
            " [10 11 12]]\n",
            "Element-wise Addition Result:\n",
            " [[ 8 10 12]\n",
            " [14 16 18]]\n"
          ]
        }
      ]
    },
    {
      "cell_type": "markdown",
      "source": [
        "**Task 5(b)**"
      ],
      "metadata": {
        "id": "5hJ1z4kOoEkC"
      }
    },
    {
      "cell_type": "code",
      "source": [
        "result = arr1 * arr2\n",
        "print(\"Element-wise Product:\\n\", result)\n"
      ],
      "metadata": {
        "colab": {
          "base_uri": "https://localhost:8080/"
        },
        "id": "X9D-9tCkoG_P",
        "outputId": "189fafbd-5e12-4732-dfb2-dfe22391e413"
      },
      "execution_count": 22,
      "outputs": [
        {
          "output_type": "stream",
          "name": "stdout",
          "text": [
            "Element-wise Product:\n",
            " [[ 7 16 27]\n",
            " [40 55 72]]\n"
          ]
        }
      ]
    },
    {
      "cell_type": "markdown",
      "source": [
        "**Task 6(a)**"
      ],
      "metadata": {
        "id": "5RvfpXProd3X"
      }
    },
    {
      "cell_type": "code",
      "source": [
        "import numpy as np\n",
        "arr1D = np.array([1, 2, 3, 4, 5, 6, 7, 8, 9, 10, 11, 12])\n",
        "arr2D = arr1D.reshape(3, 4)\n",
        "print(\"\\nReshaped 2D Array (3x4):\\n\", arr2D)\n"
      ],
      "metadata": {
        "colab": {
          "base_uri": "https://localhost:8080/"
        },
        "id": "yddrl2q5oh4Z",
        "outputId": "aef86906-d999-4d80-97c8-f1f666999ac8"
      },
      "execution_count": 28,
      "outputs": [
        {
          "output_type": "stream",
          "name": "stdout",
          "text": [
            "\n",
            "Reshaped 2D Array (3x4):\n",
            " [[ 1  2  3  4]\n",
            " [ 5  6  7  8]\n",
            " [ 9 10 11 12]]\n"
          ]
        }
      ]
    },
    {
      "cell_type": "markdown",
      "source": [
        "**Task 6(b)**"
      ],
      "metadata": {
        "id": "yIahYjn3oioB"
      }
    },
    {
      "cell_type": "code",
      "source": [
        "import numpy as np\n",
        "\n",
        "a = np.array([[1, 2, 3], [4, 5, 6]])\n",
        "b = np.array([[7, 8, 9], [10, 11, 12]])\n",
        "h_concat = np.concatenate((a, b), axis=1)\n",
        "v_concat = np.concatenate((a, b), axis=0)\n",
        "\n",
        "print(\"\\nHorizontally Concatenated Array:\\n\", h_concat)\n",
        "print(\"\\nVertically Concatenated Array:\\n\", v_concat)\n"
      ],
      "metadata": {
        "colab": {
          "base_uri": "https://localhost:8080/"
        },
        "id": "sn5FVEjOomAs",
        "outputId": "103f04d0-52a2-4829-c07c-fd3d954b676f"
      },
      "execution_count": 32,
      "outputs": [
        {
          "output_type": "stream",
          "name": "stdout",
          "text": [
            "\n",
            "Horizontally Concatenated Array:\n",
            " [[ 1  2  3  7  8  9]\n",
            " [ 4  5  6 10 11 12]]\n",
            "\n",
            "Vertically Concatenated Array:\n",
            " [[ 1  2  3]\n",
            " [ 4  5  6]\n",
            " [ 7  8  9]\n",
            " [10 11 12]]\n"
          ]
        }
      ]
    },
    {
      "cell_type": "markdown",
      "source": [
        "**Task 7**"
      ],
      "metadata": {
        "id": "3cvJ6wBno6SF"
      }
    },
    {
      "cell_type": "code",
      "source": [
        "originallist = [1, 2, 3, 4, 5]\n",
        "reversedlist = originallist[::-1]\n",
        "\n",
        "print(\"Original List:\", originallist)\n",
        "print(\"Reversed List:\", reversedlist)\n"
      ],
      "metadata": {
        "colab": {
          "base_uri": "https://localhost:8080/"
        },
        "id": "kZ9GY6noo-DN",
        "outputId": "f471c4ce-7afe-4897-aa65-7a17fff95a72"
      },
      "execution_count": 17,
      "outputs": [
        {
          "output_type": "stream",
          "name": "stdout",
          "text": [
            "Original List: [1, 2, 3, 4, 5]\n",
            "Reversed List: [5, 4, 3, 2, 1]\n"
          ]
        }
      ]
    }
  ]
}
